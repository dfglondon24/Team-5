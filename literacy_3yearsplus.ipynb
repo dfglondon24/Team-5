{
 "cells": [
  {
   "cell_type": "code",
   "execution_count": 86,
   "id": "1fd6e0fd-2034-4470-a9de-db5932bf4077",
   "metadata": {
    "tags": []
   },
   "outputs": [],
   "source": [
    "import pandas as pd\n",
    "import seaborn as sns\n",
    "import matplotlib.pyplot as plt"
   ]
  },
  {
   "cell_type": "code",
   "execution_count": 87,
   "id": "ace9bba4-37fa-4ba4-aa07-0ce5b5baf408",
   "metadata": {
    "tags": []
   },
   "outputs": [],
   "source": [
    "df = pd.read_excel ('literacy_data_3years.xlsx', header=2)"
   ]
  },
  {
   "cell_type": "code",
   "execution_count": null,
   "id": "0fcb8792-386a-4719-b998-92d30f35bb64",
   "metadata": {
    "tags": []
   },
   "outputs": [],
   "source": []
  },
  {
   "cell_type": "code",
   "execution_count": 88,
   "id": "c62d7aec-3b9c-4725-bf2e-1308c6a842fd",
   "metadata": {
    "tags": []
   },
   "outputs": [
    {
     "data": {
      "text/html": [
       "<div>\n",
       "<style scoped>\n",
       "    .dataframe tbody tr th:only-of-type {\n",
       "        vertical-align: middle;\n",
       "    }\n",
       "\n",
       "    .dataframe tbody tr th {\n",
       "        vertical-align: top;\n",
       "    }\n",
       "\n",
       "    .dataframe thead th {\n",
       "        text-align: right;\n",
       "    }\n",
       "</style>\n",
       "<table border=\"1\" class=\"dataframe\">\n",
       "  <thead>\n",
       "    <tr style=\"text-align: right;\">\n",
       "      <th></th>\n",
       "      <th>Level of Education</th>\n",
       "      <th>Number</th>\n",
       "      <th>Builsa South</th>\n",
       "      <th>Builsa North Municipal</th>\n",
       "      <th>Kasena Nankana Municipal</th>\n",
       "      <th>Kasena Nankana West</th>\n",
       "      <th>Bolgatanga Municipal</th>\n",
       "      <th>Talensi</th>\n",
       "      <th>Bolgatanga East</th>\n",
       "      <th>Bongo</th>\n",
       "      <th>Nabdam</th>\n",
       "      <th>Bawku West</th>\n",
       "      <th>Binduri</th>\n",
       "      <th>Bawku Municipal</th>\n",
       "      <th>Garu</th>\n",
       "      <th>Tempane</th>\n",
       "      <th>Pusiga</th>\n",
       "    </tr>\n",
       "  </thead>\n",
       "  <tbody>\n",
       "    <tr>\n",
       "      <th>0</th>\n",
       "      <td>Nursery</td>\n",
       "      <td>20879</td>\n",
       "      <td>622</td>\n",
       "      <td>1145</td>\n",
       "      <td>1846</td>\n",
       "      <td>1876</td>\n",
       "      <td>3627</td>\n",
       "      <td>2173</td>\n",
       "      <td>979</td>\n",
       "      <td>1948</td>\n",
       "      <td>1056</td>\n",
       "      <td>1468</td>\n",
       "      <td>672</td>\n",
       "      <td>1712</td>\n",
       "      <td>557</td>\n",
       "      <td>505</td>\n",
       "      <td>693</td>\n",
       "    </tr>\n",
       "    <tr>\n",
       "      <th>1</th>\n",
       "      <td>Kindergarten</td>\n",
       "      <td>63758</td>\n",
       "      <td>1915</td>\n",
       "      <td>2854</td>\n",
       "      <td>4921</td>\n",
       "      <td>4619</td>\n",
       "      <td>6434</td>\n",
       "      <td>3425</td>\n",
       "      <td>1847</td>\n",
       "      <td>6148</td>\n",
       "      <td>2221</td>\n",
       "      <td>7141</td>\n",
       "      <td>3984</td>\n",
       "      <td>6237</td>\n",
       "      <td>4082</td>\n",
       "      <td>4502</td>\n",
       "      <td>3428</td>\n",
       "    </tr>\n",
       "    <tr>\n",
       "      <th>2</th>\n",
       "      <td>Primary</td>\n",
       "      <td>212003</td>\n",
       "      <td>6127</td>\n",
       "      <td>9175</td>\n",
       "      <td>14476</td>\n",
       "      <td>15047</td>\n",
       "      <td>21469</td>\n",
       "      <td>14526</td>\n",
       "      <td>6272</td>\n",
       "      <td>20337</td>\n",
       "      <td>8236</td>\n",
       "      <td>23573</td>\n",
       "      <td>12656</td>\n",
       "      <td>20168</td>\n",
       "      <td>12649</td>\n",
       "      <td>14601</td>\n",
       "      <td>12691</td>\n",
       "    </tr>\n",
       "    <tr>\n",
       "      <th>3</th>\n",
       "      <td>JSS/JHS</td>\n",
       "      <td>89637</td>\n",
       "      <td>2758</td>\n",
       "      <td>4534</td>\n",
       "      <td>7004</td>\n",
       "      <td>7105</td>\n",
       "      <td>9525</td>\n",
       "      <td>6121</td>\n",
       "      <td>2901</td>\n",
       "      <td>8648</td>\n",
       "      <td>3310</td>\n",
       "      <td>9166</td>\n",
       "      <td>4612</td>\n",
       "      <td>7992</td>\n",
       "      <td>5149</td>\n",
       "      <td>6128</td>\n",
       "      <td>4684</td>\n",
       "    </tr>\n",
       "    <tr>\n",
       "      <th>4</th>\n",
       "      <td>SSS/SHS</td>\n",
       "      <td>57210</td>\n",
       "      <td>1905</td>\n",
       "      <td>3779</td>\n",
       "      <td>6433</td>\n",
       "      <td>4491</td>\n",
       "      <td>6637</td>\n",
       "      <td>4208</td>\n",
       "      <td>2411</td>\n",
       "      <td>5001</td>\n",
       "      <td>2498</td>\n",
       "      <td>4883</td>\n",
       "      <td>2264</td>\n",
       "      <td>6018</td>\n",
       "      <td>1950</td>\n",
       "      <td>2844</td>\n",
       "      <td>1888</td>\n",
       "    </tr>\n",
       "  </tbody>\n",
       "</table>\n",
       "</div>"
      ],
      "text/plain": [
       "  Level of Education  Number  Builsa South  Builsa North Municipal  \\\n",
       "0            Nursery   20879           622                    1145   \n",
       "1       Kindergarten   63758          1915                    2854   \n",
       "2            Primary  212003          6127                    9175   \n",
       "3            JSS/JHS   89637          2758                    4534   \n",
       "4            SSS/SHS   57210          1905                    3779   \n",
       "\n",
       "   Kasena Nankana Municipal  Kasena Nankana West  Bolgatanga Municipal  \\\n",
       "0                      1846                 1876                  3627   \n",
       "1                      4921                 4619                  6434   \n",
       "2                     14476                15047                 21469   \n",
       "3                      7004                 7105                  9525   \n",
       "4                      6433                 4491                  6637   \n",
       "\n",
       "   Talensi  Bolgatanga East  Bongo  Nabdam  Bawku West  Binduri  \\\n",
       "0     2173              979   1948    1056        1468      672   \n",
       "1     3425             1847   6148    2221        7141     3984   \n",
       "2    14526             6272  20337    8236       23573    12656   \n",
       "3     6121             2901   8648    3310        9166     4612   \n",
       "4     4208             2411   5001    2498        4883     2264   \n",
       "\n",
       "   Bawku Municipal   Garu  Tempane  Pusiga  \n",
       "0             1712    557      505     693  \n",
       "1             6237   4082     4502    3428  \n",
       "2            20168  12649    14601   12691  \n",
       "3             7992   5149     6128    4684  \n",
       "4             6018   1950     2844    1888  "
      ]
     },
     "execution_count": 88,
     "metadata": {},
     "output_type": "execute_result"
    }
   ],
   "source": [
    "df.head()"
   ]
  },
  {
   "cell_type": "code",
   "execution_count": 89,
   "id": "7fde584d-b5b5-49d2-ad66-aee189644ef6",
   "metadata": {
    "tags": []
   },
   "outputs": [
    {
     "data": {
      "text/plain": [
       "(5, 17)"
      ]
     },
     "execution_count": 89,
     "metadata": {},
     "output_type": "execute_result"
    }
   ],
   "source": [
    "df.shape"
   ]
  },
  {
   "cell_type": "code",
   "execution_count": 90,
   "id": "3c2356a4-9537-41c9-8610-8973745d311e",
   "metadata": {},
   "outputs": [
    {
     "data": {
      "image/png": "[encoded data removed]",
      "text/plain": [
       "<Figure size 640x480 with 1 Axes>"
      ]
     },
     "metadata": {},
     "output_type": "display_data"
    }
   ],
   "source": [
    "sns.barplot(x = \"Level of Education\", y = \"Number\", data=df)\n",
    "plt.title('Upper East Region: Population 3 years  and older currently  attending school by level, sex, type of locality and district', fontsize=7)\n",
    "plt.tick_params(axis='both', which='major', labelsize=6)\n"
   ]
  },
  {
   "cell_type": "code",
   "execution_count": null,
   "id": "c6ebabb7-b368-4f43-b632-c62c73a16562",
   "metadata": {},
   "outputs": [],
   "source": []
  },
  {
   "cell_type": "code",
   "execution_count": null,
   "id": "55dc2722-6a23-46a3-aa1c-f25ae7509953",
   "metadata": {},
   "outputs": [],
   "source": []
  },
  {
   "cell_type": "code",
   "execution_count": null,
   "id": "7c9ebce8-4e01-4d14-a9a9-3cc08b461193",
   "metadata": {},
   "outputs": [],
   "source": []
  }
 ],
 "metadata": {
  "kernelspec": {
   "display_name": "Python 3 (ipykernel)",
   "language": "python",
   "name": "python3"
  },
  "language_info": {
   "codemirror_mode": {
    "name": "ipython",
    "version": 3
   },
   "file_extension": ".py",
   "mimetype": "text/x-python",
   "name": "python",
   "nbconvert_exporter": "python",
   "pygments_lexer": "ipython3",
   "version": "3.10.10"
  }
 },
 "nbformat": 4,
 "nbformat_minor": 5
}
